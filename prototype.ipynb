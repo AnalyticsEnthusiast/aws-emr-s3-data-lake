{
 "cells": [
  {
   "cell_type": "markdown",
   "metadata": {
    "editable": true
   },
   "source": [
    "### Test notebook for prototyping\n",
    "\n",
    "**Name: Darren Foley**\n",
    "\n",
    "**Email: darren.foley@ucdconnect.ie**"
   ]
  },
  {
   "cell_type": "code",
   "execution_count": 1,
   "metadata": {
    "editable": true
   },
   "outputs": [],
   "source": [
    "import os\n",
    "import configparser\n",
    "from datetime import datetime\n",
    "from pyspark import SparkConf\n",
    "from pyspark import SparkContext\n",
    "from pyspark.sql.types import StructType, StructField, StringType, DoubleType, LongType\n",
    "from pyspark.sql import SparkSession, SQLContext\n",
    "from pyspark.sql.functions import udf, col\n",
    "from pyspark.sql.functions import year, month, dayofmonth, hour, weekofyear, date_format"
   ]
  },
  {
   "cell_type": "code",
   "execution_count": 2,
   "metadata": {
    "editable": true
   },
   "outputs": [
    {
     "name": "stdout",
     "output_type": "stream",
     "text": [
      "Collecting findspark\n",
      "  Downloading https://files.pythonhosted.org/packages/fc/2d/2e39f9a023479ea798eed4351cd66f163ce61e00c717e03c37109f00c0f2/findspark-1.4.2-py2.py3-none-any.whl\n",
      "Installing collected packages: findspark\n",
      "Successfully installed findspark-1.4.2\n"
     ]
    }
   ],
   "source": [
    "!pip install findspark"
   ]
  },
  {
   "cell_type": "code",
   "execution_count": 3,
   "metadata": {
    "editable": true
   },
   "outputs": [],
   "source": [
    "import findspark\n",
    "findspark.init()"
   ]
  },
  {
   "cell_type": "code",
   "execution_count": 4,
   "metadata": {
    "editable": true
   },
   "outputs": [],
   "source": [
    "config = configparser.ConfigParser()\n",
    "config.read('dl.cfg')\n",
    "\n",
    "os.environ['AWS_ACCESS_KEY_ID']=config.get('AWS', 'AWS_ACCESS_KEY_ID')\n",
    "os.environ['AWS_SECRET_ACCESS_KEY']=config.get('AWS', 'AWS_SECRET_ACCESS_KEY')\n",
    "\n",
    "AWS_ACCESS_KEY=config.get('AWS','AWS_ACCESS_KEY_ID')\n",
    "AWS_SECRET_KEY=config.get('AWS','AWS_SECRET_ACCESS_KEY')\n",
    "\n",
    "#!echo $AWS_ACCESS_KEY_ID\n",
    "#!echo $AWS_SECRET_ACCESS_KEY"
   ]
  },
  {
   "cell_type": "code",
   "execution_count": 5,
   "metadata": {
    "editable": true
   },
   "outputs": [],
   "source": [
    "\n",
    "conf = SparkConf()\n",
    "conf.set('spark.jars.packages', 'org.apache.hadoop:hadoop-aws:2.7.0')\n",
    "sc = SparkContext(conf=conf)\n",
    "\n",
    "# add aws credentials\n",
    "sc._jsc.hadoopConfiguration().set(\"fs.s3n.awsAccessKeyId\", AWS_ACCESS_KEY)\n",
    "sc._jsc.hadoopConfiguration().set(\"fs.s3n.awsSecretAccessKey\", AWS_SECRET_KEY)\n",
    "sc._jsc.hadoopConfiguration().set(\"fs.s3a.impl\", \"org.apache.hadoop.fs.s3a.S3AFileSystem\")\n",
    "\n",
    "#creating the context\n",
    "sqlContext = SQLContext(sc)"
   ]
  },
  {
   "cell_type": "code",
   "execution_count": 6,
   "metadata": {
    "editable": true
   },
   "outputs": [],
   "source": [
    "song_schema = StructType([StructField(\"artist_id\",StringType(),True), \\\n",
    "                         StructField(\"artist_latitude\",DoubleType(),True), \\\n",
    "                         StructField(\"artist_location\",StringType(),True), \\\n",
    "                         StructField(\"artist_longitude\",DoubleType(),True), \\\n",
    "                         StructField(\"artist_name\",StringType(),True), \\\n",
    "                         StructField(\"duration\",DoubleType(),True), \\\n",
    "                         StructField(\"num_songs\",LongType(),True), \\\n",
    "                         StructField(\"song_id\",StringType(),True), \\\n",
    "                         StructField(\"title\",StringType(),True), \\\n",
    "                         StructField(\"year\",LongType(),True)])"
   ]
  },
  {
   "cell_type": "code",
   "execution_count": 7,
   "metadata": {
    "editable": true
   },
   "outputs": [],
   "source": [
    "#reading the first csv file and store it in an RDD\n",
    "#song_data = sqlContext.read.json(\"s3a://udacity-dend/song_data/*/*/*/*.json\", schema = song_schema)\n",
    "song_data = sqlContext.read.json(\"s3a://udacity-dend/song_data/A/A/[A-Z]/*.json\")"
   ]
  },
  {
   "cell_type": "code",
   "execution_count": 8,
   "metadata": {
    "editable": true
   },
   "outputs": [
    {
     "data": {
      "text/html": [
       "<div>\n",
       "<style scoped>\n",
       "    .dataframe tbody tr th:only-of-type {\n",
       "        vertical-align: middle;\n",
       "    }\n",
       "\n",
       "    .dataframe tbody tr th {\n",
       "        vertical-align: top;\n",
       "    }\n",
       "\n",
       "    .dataframe thead th {\n",
       "        text-align: right;\n",
       "    }\n",
       "</style>\n",
       "<table border=\"1\" class=\"dataframe\">\n",
       "  <thead>\n",
       "    <tr style=\"text-align: right;\">\n",
       "      <th></th>\n",
       "      <th>artist_id</th>\n",
       "      <th>artist_latitude</th>\n",
       "      <th>artist_location</th>\n",
       "      <th>artist_longitude</th>\n",
       "      <th>artist_name</th>\n",
       "      <th>duration</th>\n",
       "      <th>num_songs</th>\n",
       "      <th>song_id</th>\n",
       "      <th>title</th>\n",
       "      <th>year</th>\n",
       "    </tr>\n",
       "  </thead>\n",
       "  <tbody>\n",
       "    <tr>\n",
       "      <th>0</th>\n",
       "      <td>ARSUVLW12454A4C8B8</td>\n",
       "      <td>35.83073</td>\n",
       "      <td>Tennessee</td>\n",
       "      <td>-85.97874</td>\n",
       "      <td>Royal Philharmonic Orchestra/Sir Thomas Beecham</td>\n",
       "      <td>94.56281</td>\n",
       "      <td>1</td>\n",
       "      <td>SOBTCUI12A8AE48B70</td>\n",
       "      <td>Faust: Ballet Music (1959 Digital Remaster): V...</td>\n",
       "      <td>0</td>\n",
       "    </tr>\n",
       "    <tr>\n",
       "      <th>1</th>\n",
       "      <td>ARXQC081187FB4AD42</td>\n",
       "      <td>54.31407</td>\n",
       "      <td>UK</td>\n",
       "      <td>-2.23001</td>\n",
       "      <td>William Shatner_ David Itkin_ The Arkansas Sym...</td>\n",
       "      <td>1047.71873</td>\n",
       "      <td>1</td>\n",
       "      <td>SOXRPUH12AB017F769</td>\n",
       "      <td>Exodus: Part I: Moses and Pharaoh</td>\n",
       "      <td>0</td>\n",
       "    </tr>\n",
       "    <tr>\n",
       "      <th>2</th>\n",
       "      <td>ARWUNH81187FB4A3E0</td>\n",
       "      <td>NaN</td>\n",
       "      <td>Miami , Florida</td>\n",
       "      <td>NaN</td>\n",
       "      <td>Trick Daddy</td>\n",
       "      <td>227.10812</td>\n",
       "      <td>1</td>\n",
       "      <td>SOVNKJI12A8C13CB0D</td>\n",
       "      <td>Take It To Da House (Featuring The Slip N' Sli...</td>\n",
       "      <td>2001</td>\n",
       "    </tr>\n",
       "    <tr>\n",
       "      <th>3</th>\n",
       "      <td>ARTC1LV1187B9A4858</td>\n",
       "      <td>51.45360</td>\n",
       "      <td>Goldsmith's College, Lewisham, Lo</td>\n",
       "      <td>-0.01802</td>\n",
       "      <td>The Bonzo Dog Band</td>\n",
       "      <td>301.40036</td>\n",
       "      <td>1</td>\n",
       "      <td>SOAFBCP12A8C13CC7D</td>\n",
       "      <td>King Of Scurf (2007 Digital Remaster)</td>\n",
       "      <td>1972</td>\n",
       "    </tr>\n",
       "    <tr>\n",
       "      <th>4</th>\n",
       "      <td>ARA23XO1187B9AF18F</td>\n",
       "      <td>40.57885</td>\n",
       "      <td>Carteret, New Jersey</td>\n",
       "      <td>-74.21956</td>\n",
       "      <td>The Smithereens</td>\n",
       "      <td>192.52200</td>\n",
       "      <td>1</td>\n",
       "      <td>SOKTJDS12AF72A25E5</td>\n",
       "      <td>Drown In My Own Tears (24-Bit Digitally Remast...</td>\n",
       "      <td>0</td>\n",
       "    </tr>\n",
       "  </tbody>\n",
       "</table>\n",
       "</div>"
      ],
      "text/plain": [
       "            artist_id  artist_latitude                    artist_location  \\\n",
       "0  ARSUVLW12454A4C8B8         35.83073                          Tennessee   \n",
       "1  ARXQC081187FB4AD42         54.31407                                 UK   \n",
       "2  ARWUNH81187FB4A3E0              NaN                    Miami , Florida   \n",
       "3  ARTC1LV1187B9A4858         51.45360  Goldsmith's College, Lewisham, Lo   \n",
       "4  ARA23XO1187B9AF18F         40.57885               Carteret, New Jersey   \n",
       "\n",
       "   artist_longitude                                        artist_name  \\\n",
       "0         -85.97874    Royal Philharmonic Orchestra/Sir Thomas Beecham   \n",
       "1          -2.23001  William Shatner_ David Itkin_ The Arkansas Sym...   \n",
       "2               NaN                                        Trick Daddy   \n",
       "3          -0.01802                                 The Bonzo Dog Band   \n",
       "4         -74.21956                                    The Smithereens   \n",
       "\n",
       "     duration  num_songs             song_id  \\\n",
       "0    94.56281          1  SOBTCUI12A8AE48B70   \n",
       "1  1047.71873          1  SOXRPUH12AB017F769   \n",
       "2   227.10812          1  SOVNKJI12A8C13CB0D   \n",
       "3   301.40036          1  SOAFBCP12A8C13CC7D   \n",
       "4   192.52200          1  SOKTJDS12AF72A25E5   \n",
       "\n",
       "                                               title  year  \n",
       "0  Faust: Ballet Music (1959 Digital Remaster): V...     0  \n",
       "1                  Exodus: Part I: Moses and Pharaoh     0  \n",
       "2  Take It To Da House (Featuring The Slip N' Sli...  2001  \n",
       "3              King Of Scurf (2007 Digital Remaster)  1972  \n",
       "4  Drown In My Own Tears (24-Bit Digitally Remast...     0  "
      ]
     },
     "execution_count": 8,
     "metadata": {},
     "output_type": "execute_result"
    }
   ],
   "source": [
    "song_data.limit(5).toPandas()"
   ]
  },
  {
   "cell_type": "code",
   "execution_count": 9,
   "metadata": {
    "editable": true
   },
   "outputs": [
    {
     "data": {
      "text/plain": [
       "604"
      ]
     },
     "execution_count": 9,
     "metadata": {},
     "output_type": "execute_result"
    }
   ],
   "source": [
    "song_data.count()"
   ]
  },
  {
   "cell_type": "code",
   "execution_count": 10,
   "metadata": {
    "editable": true
   },
   "outputs": [
    {
     "name": "stdout",
     "output_type": "stream",
     "text": [
      "root\n",
      " |-- artist_id: string (nullable = true)\n",
      " |-- artist_latitude: double (nullable = true)\n",
      " |-- artist_location: string (nullable = true)\n",
      " |-- artist_longitude: double (nullable = true)\n",
      " |-- artist_name: string (nullable = true)\n",
      " |-- duration: double (nullable = true)\n",
      " |-- num_songs: long (nullable = true)\n",
      " |-- song_id: string (nullable = true)\n",
      " |-- title: string (nullable = true)\n",
      " |-- year: long (nullable = true)\n",
      "\n"
     ]
    }
   ],
   "source": [
    "song_data.printSchema()"
   ]
  },
  {
   "cell_type": "markdown",
   "metadata": {
    "editable": true
   },
   "source": [
    "#### Extract to songs table"
   ]
  },
  {
   "cell_type": "code",
   "execution_count": 8,
   "metadata": {
    "editable": true
   },
   "outputs": [
    {
     "data": {
      "text/plain": [
       "73"
      ]
     },
     "execution_count": 8,
     "metadata": {},
     "output_type": "execute_result"
    }
   ],
   "source": [
    "#song_id, title, artist_id, year, duration\n",
    "#rdd.select([\"song_id\",\"title\",\"artist_id\",\"year\",\"duration\"]).limit(5).toPandas()\n",
    "songs = song_data.select([\"song_id\",\"title\",\"artist_id\",\"year\",\"duration\"]).distinct()\n",
    "#songs.limit(5).toPandas()\n",
    "songs.count()"
   ]
  },
  {
   "cell_type": "markdown",
   "metadata": {
    "editable": true
   },
   "source": [
    "#### Extract to artist table"
   ]
  },
  {
   "cell_type": "code",
   "execution_count": 9,
   "metadata": {
    "editable": true
   },
   "outputs": [
    {
     "data": {
      "text/plain": [
       "73"
      ]
     },
     "execution_count": 9,
     "metadata": {},
     "output_type": "execute_result"
    }
   ],
   "source": [
    "#Artists table\n",
    "#artist_id, name, location, lattitude, longitude\n",
    "artist = song_data.select([\"artist_id\",\"artist_name\",\"artist_location\",\"artist_latitude\",\"artist_longitude\"]).distinct()\n",
    "#artist.limit(5).toPandas()\n",
    "artist.select([\"artist_name\"]).count()"
   ]
  },
  {
   "cell_type": "markdown",
   "metadata": {
    "editable": true
   },
   "source": [
    "#### Partitioning\n",
    "\n",
    "Songs table files are partitioned by year and then artist. - Songs(year,Artist)\n",
    "\n",
    "Time table files are partitioned by year and month. - Time(year, month)\n",
    "\n",
    "Songplays table files are partitioned by year and month. - songPlays(year, month)"
   ]
  },
  {
   "cell_type": "code",
   "execution_count": 15,
   "metadata": {
    "editable": true
   },
   "outputs": [],
   "source": [
    "songs.write.format(\"parquet\").partitionBy(\"year\", \"artist_id\").mode(\"overwrite\").save(\"tmp/parquet_test.parquet\")\n",
    "artist.write.format(\"parquet\").partitionBy(\"artist_name\").mode(\"overwrite\").save(\"tmp/parquet_test.parquet\")"
   ]
  },
  {
   "cell_type": "markdown",
   "metadata": {
    "editable": true
   },
   "source": [
    "#### Writing parquet to S3 bucket in us-west-2"
   ]
  },
  {
   "cell_type": "code",
   "execution_count": 19,
   "metadata": {
    "editable": true
   },
   "outputs": [],
   "source": [
    "artist.write.format(\"parquet\").partitionBy(\"artist_name\").mode(\"overwrite\").parquet(\"s3a://sparkify-data-lake-df/test/artist\")"
   ]
  },
  {
   "cell_type": "markdown",
   "metadata": {
    "editable": true
   },
   "source": [
    "### Processing log data\n",
    "\n",
    "s3a://udacity-dend/log_data/"
   ]
  },
  {
   "cell_type": "markdown",
   "metadata": {
    "editable": true
   },
   "source": [
    "\n",
    "Sample path: s3a://udacity-dend/log_data/2018/11/2018-11-13-events.json\n"
   ]
  },
  {
   "cell_type": "code",
   "execution_count": 10,
   "metadata": {
    "editable": true
   },
   "outputs": [],
   "source": [
    "#log_data= sqlContext.read.json(\"s3a://udacity-dend/log_data/2018/11/2018-11-13-events.json\")\n",
    "log_data= sqlContext.read.json(\"s3a://udacity-dend/log_data/*/*/*.json\")"
   ]
  },
  {
   "cell_type": "code",
   "execution_count": 11,
   "metadata": {
    "editable": true
   },
   "outputs": [
    {
     "data": {
      "text/html": [
       "<div>\n",
       "<style scoped>\n",
       "    .dataframe tbody tr th:only-of-type {\n",
       "        vertical-align: middle;\n",
       "    }\n",
       "\n",
       "    .dataframe tbody tr th {\n",
       "        vertical-align: top;\n",
       "    }\n",
       "\n",
       "    .dataframe thead th {\n",
       "        text-align: right;\n",
       "    }\n",
       "</style>\n",
       "<table border=\"1\" class=\"dataframe\">\n",
       "  <thead>\n",
       "    <tr style=\"text-align: right;\">\n",
       "      <th></th>\n",
       "      <th>artist</th>\n",
       "      <th>auth</th>\n",
       "      <th>firstName</th>\n",
       "      <th>gender</th>\n",
       "      <th>itemInSession</th>\n",
       "      <th>lastName</th>\n",
       "      <th>length</th>\n",
       "      <th>level</th>\n",
       "      <th>location</th>\n",
       "      <th>method</th>\n",
       "      <th>page</th>\n",
       "      <th>registration</th>\n",
       "      <th>sessionId</th>\n",
       "      <th>song</th>\n",
       "      <th>status</th>\n",
       "      <th>ts</th>\n",
       "      <th>userAgent</th>\n",
       "      <th>userId</th>\n",
       "    </tr>\n",
       "  </thead>\n",
       "  <tbody>\n",
       "    <tr>\n",
       "      <th>0</th>\n",
       "      <td>Harmonia</td>\n",
       "      <td>Logged In</td>\n",
       "      <td>Ryan</td>\n",
       "      <td>M</td>\n",
       "      <td>0</td>\n",
       "      <td>Smith</td>\n",
       "      <td>655.77751</td>\n",
       "      <td>free</td>\n",
       "      <td>San Jose-Sunnyvale-Santa Clara, CA</td>\n",
       "      <td>PUT</td>\n",
       "      <td>NextSong</td>\n",
       "      <td>1.541017e+12</td>\n",
       "      <td>583</td>\n",
       "      <td>Sehr kosmisch</td>\n",
       "      <td>200</td>\n",
       "      <td>1542241826796</td>\n",
       "      <td>\"Mozilla/5.0 (X11; Linux x86_64) AppleWebKit/5...</td>\n",
       "      <td>26</td>\n",
       "    </tr>\n",
       "    <tr>\n",
       "      <th>1</th>\n",
       "      <td>The Prodigy</td>\n",
       "      <td>Logged In</td>\n",
       "      <td>Ryan</td>\n",
       "      <td>M</td>\n",
       "      <td>1</td>\n",
       "      <td>Smith</td>\n",
       "      <td>260.07465</td>\n",
       "      <td>free</td>\n",
       "      <td>San Jose-Sunnyvale-Santa Clara, CA</td>\n",
       "      <td>PUT</td>\n",
       "      <td>NextSong</td>\n",
       "      <td>1.541017e+12</td>\n",
       "      <td>583</td>\n",
       "      <td>The Big Gundown</td>\n",
       "      <td>200</td>\n",
       "      <td>1542242481796</td>\n",
       "      <td>\"Mozilla/5.0 (X11; Linux x86_64) AppleWebKit/5...</td>\n",
       "      <td>26</td>\n",
       "    </tr>\n",
       "    <tr>\n",
       "      <th>2</th>\n",
       "      <td>Train</td>\n",
       "      <td>Logged In</td>\n",
       "      <td>Ryan</td>\n",
       "      <td>M</td>\n",
       "      <td>2</td>\n",
       "      <td>Smith</td>\n",
       "      <td>205.45261</td>\n",
       "      <td>free</td>\n",
       "      <td>San Jose-Sunnyvale-Santa Clara, CA</td>\n",
       "      <td>PUT</td>\n",
       "      <td>NextSong</td>\n",
       "      <td>1.541017e+12</td>\n",
       "      <td>583</td>\n",
       "      <td>Marry Me</td>\n",
       "      <td>200</td>\n",
       "      <td>1542242741796</td>\n",
       "      <td>\"Mozilla/5.0 (X11; Linux x86_64) AppleWebKit/5...</td>\n",
       "      <td>26</td>\n",
       "    </tr>\n",
       "    <tr>\n",
       "      <th>3</th>\n",
       "      <td>None</td>\n",
       "      <td>Logged In</td>\n",
       "      <td>Wyatt</td>\n",
       "      <td>M</td>\n",
       "      <td>0</td>\n",
       "      <td>Scott</td>\n",
       "      <td>NaN</td>\n",
       "      <td>free</td>\n",
       "      <td>Eureka-Arcata-Fortuna, CA</td>\n",
       "      <td>GET</td>\n",
       "      <td>Home</td>\n",
       "      <td>1.540872e+12</td>\n",
       "      <td>563</td>\n",
       "      <td>None</td>\n",
       "      <td>200</td>\n",
       "      <td>1542247071796</td>\n",
       "      <td>Mozilla/5.0 (Windows NT 6.1; WOW64; Trident/7....</td>\n",
       "      <td>9</td>\n",
       "    </tr>\n",
       "    <tr>\n",
       "      <th>4</th>\n",
       "      <td>None</td>\n",
       "      <td>Logged In</td>\n",
       "      <td>Austin</td>\n",
       "      <td>M</td>\n",
       "      <td>0</td>\n",
       "      <td>Rosales</td>\n",
       "      <td>NaN</td>\n",
       "      <td>free</td>\n",
       "      <td>New York-Newark-Jersey City, NY-NJ-PA</td>\n",
       "      <td>GET</td>\n",
       "      <td>Home</td>\n",
       "      <td>1.541060e+12</td>\n",
       "      <td>521</td>\n",
       "      <td>None</td>\n",
       "      <td>200</td>\n",
       "      <td>1542252577796</td>\n",
       "      <td>Mozilla/5.0 (Windows NT 6.1; rv:31.0) Gecko/20...</td>\n",
       "      <td>12</td>\n",
       "    </tr>\n",
       "  </tbody>\n",
       "</table>\n",
       "</div>"
      ],
      "text/plain": [
       "        artist       auth firstName gender  itemInSession lastName     length  \\\n",
       "0     Harmonia  Logged In      Ryan      M              0    Smith  655.77751   \n",
       "1  The Prodigy  Logged In      Ryan      M              1    Smith  260.07465   \n",
       "2        Train  Logged In      Ryan      M              2    Smith  205.45261   \n",
       "3         None  Logged In     Wyatt      M              0    Scott        NaN   \n",
       "4         None  Logged In    Austin      M              0  Rosales        NaN   \n",
       "\n",
       "  level                               location method      page  registration  \\\n",
       "0  free     San Jose-Sunnyvale-Santa Clara, CA    PUT  NextSong  1.541017e+12   \n",
       "1  free     San Jose-Sunnyvale-Santa Clara, CA    PUT  NextSong  1.541017e+12   \n",
       "2  free     San Jose-Sunnyvale-Santa Clara, CA    PUT  NextSong  1.541017e+12   \n",
       "3  free              Eureka-Arcata-Fortuna, CA    GET      Home  1.540872e+12   \n",
       "4  free  New York-Newark-Jersey City, NY-NJ-PA    GET      Home  1.541060e+12   \n",
       "\n",
       "   sessionId             song  status             ts  \\\n",
       "0        583    Sehr kosmisch     200  1542241826796   \n",
       "1        583  The Big Gundown     200  1542242481796   \n",
       "2        583         Marry Me     200  1542242741796   \n",
       "3        563             None     200  1542247071796   \n",
       "4        521             None     200  1542252577796   \n",
       "\n",
       "                                           userAgent userId  \n",
       "0  \"Mozilla/5.0 (X11; Linux x86_64) AppleWebKit/5...     26  \n",
       "1  \"Mozilla/5.0 (X11; Linux x86_64) AppleWebKit/5...     26  \n",
       "2  \"Mozilla/5.0 (X11; Linux x86_64) AppleWebKit/5...     26  \n",
       "3  Mozilla/5.0 (Windows NT 6.1; WOW64; Trident/7....      9  \n",
       "4  Mozilla/5.0 (Windows NT 6.1; rv:31.0) Gecko/20...     12  "
      ]
     },
     "execution_count": 11,
     "metadata": {},
     "output_type": "execute_result"
    }
   ],
   "source": [
    "log_data.limit(5).toPandas()"
   ]
  },
  {
   "cell_type": "code",
   "execution_count": 12,
   "metadata": {
    "editable": true
   },
   "outputs": [
    {
     "data": {
      "text/plain": [
       "8056"
      ]
     },
     "execution_count": 12,
     "metadata": {},
     "output_type": "execute_result"
    }
   ],
   "source": [
    "log_data.count()"
   ]
  },
  {
   "cell_type": "code",
   "execution_count": 8,
   "metadata": {
    "editable": true
   },
   "outputs": [
    {
     "name": "stdout",
     "output_type": "stream",
     "text": [
      "root\n",
      " |-- artist: string (nullable = true)\n",
      " |-- auth: string (nullable = true)\n",
      " |-- firstName: string (nullable = true)\n",
      " |-- gender: string (nullable = true)\n",
      " |-- itemInSession: long (nullable = true)\n",
      " |-- lastName: string (nullable = true)\n",
      " |-- length: double (nullable = true)\n",
      " |-- level: string (nullable = true)\n",
      " |-- location: string (nullable = true)\n",
      " |-- method: string (nullable = true)\n",
      " |-- page: string (nullable = true)\n",
      " |-- registration: double (nullable = true)\n",
      " |-- sessionId: long (nullable = true)\n",
      " |-- song: string (nullable = true)\n",
      " |-- status: long (nullable = true)\n",
      " |-- ts: long (nullable = true)\n",
      " |-- userAgent: string (nullable = true)\n",
      " |-- userId: string (nullable = true)\n",
      "\n"
     ]
    }
   ],
   "source": [
    "log_data.printSchema()"
   ]
  },
  {
   "cell_type": "markdown",
   "metadata": {
    "editable": true
   },
   "source": [
    "#### SongPlay: songplay_id, start_time, user_id, level, song_id, artist_id, session_id, location, user_agent\n",
    "#### Users: user_id, first_name, last_name, gender, level\n",
    "#### Time: start_time, hour, day, week, month, year, weekday"
   ]
  },
  {
   "cell_type": "code",
   "execution_count": 12,
   "metadata": {
    "editable": true
   },
   "outputs": [
    {
     "data": {
      "text/html": [
       "<div>\n",
       "<style scoped>\n",
       "    .dataframe tbody tr th:only-of-type {\n",
       "        vertical-align: middle;\n",
       "    }\n",
       "\n",
       "    .dataframe tbody tr th {\n",
       "        vertical-align: top;\n",
       "    }\n",
       "\n",
       "    .dataframe thead th {\n",
       "        text-align: right;\n",
       "    }\n",
       "</style>\n",
       "<table border=\"1\" class=\"dataframe\">\n",
       "  <thead>\n",
       "    <tr style=\"text-align: right;\">\n",
       "      <th></th>\n",
       "      <th>userId</th>\n",
       "      <th>firstName</th>\n",
       "      <th>lastName</th>\n",
       "      <th>gender</th>\n",
       "      <th>level</th>\n",
       "    </tr>\n",
       "  </thead>\n",
       "  <tbody>\n",
       "    <tr>\n",
       "      <th>0</th>\n",
       "      <td>80</td>\n",
       "      <td>Tegan</td>\n",
       "      <td>Levine</td>\n",
       "      <td>F</td>\n",
       "      <td>paid</td>\n",
       "    </tr>\n",
       "    <tr>\n",
       "      <th>1</th>\n",
       "      <td>15</td>\n",
       "      <td>Lily</td>\n",
       "      <td>Koch</td>\n",
       "      <td>F</td>\n",
       "      <td>paid</td>\n",
       "    </tr>\n",
       "    <tr>\n",
       "      <th>2</th>\n",
       "      <td>37</td>\n",
       "      <td>Jordan</td>\n",
       "      <td>Hicks</td>\n",
       "      <td>F</td>\n",
       "      <td>free</td>\n",
       "    </tr>\n",
       "    <tr>\n",
       "      <th>3</th>\n",
       "      <td>44</td>\n",
       "      <td>Aleena</td>\n",
       "      <td>Kirby</td>\n",
       "      <td>F</td>\n",
       "      <td>paid</td>\n",
       "    </tr>\n",
       "    <tr>\n",
       "      <th>4</th>\n",
       "      <td>50</td>\n",
       "      <td>Ava</td>\n",
       "      <td>Robinson</td>\n",
       "      <td>F</td>\n",
       "      <td>free</td>\n",
       "    </tr>\n",
       "  </tbody>\n",
       "</table>\n",
       "</div>"
      ],
      "text/plain": [
       "  userId firstName  lastName gender level\n",
       "0     80     Tegan    Levine      F  paid\n",
       "1     15      Lily      Koch      F  paid\n",
       "2     37    Jordan     Hicks      F  free\n",
       "3     44    Aleena     Kirby      F  paid\n",
       "4     50       Ava  Robinson      F  free"
      ]
     },
     "execution_count": 12,
     "metadata": {},
     "output_type": "execute_result"
    }
   ],
   "source": [
    "# Users\n",
    "users = log_data.select([\"userId\", \"firstName\", \"lastName\", \"gender\", \"level\"]).distinct()\n",
    "users.limit(5).toPandas()"
   ]
  },
  {
   "cell_type": "code",
   "execution_count": 49,
   "metadata": {
    "editable": true
   },
   "outputs": [],
   "source": [
    "#start_time, hour, day, week, month, year, weekday\n",
    "# Time\n",
    "get_hour = udf(lambda x: x.hour)\n",
    "get_day = udf(lambda x: x.day)\n",
    "get_week = udf(lambda x: x.isocalendar()[1])\n",
    "get_month = udf(lambda x: x.month)\n",
    "get_year = udf(lambda x: x.year)\n",
    "get_weekday = udf(lambda x: x.isoweekday())\n",
    "to_timestamp = udf(lambda x: int(x.timestamp()*1000))\n",
    "to_datetime = udf(lambda x : datetime.utcfromtimestamp(x/1000.0))\n",
    "\n",
    "time_df = log_data.withColumn(\"ts_m\", to_datetime(\"ts\"))"
   ]
  },
  {
   "cell_type": "code",
   "execution_count": null,
   "metadata": {
    "editable": true
   },
   "outputs": [],
   "source": [
    "time = time_df.select([\"ts_m\"]).withColumn(\"ts\", to_timestamp(time_df.ts_m)) \\\n",
    "                        .withColumn(\"hour\", get_hour(time_df.ts_m)) \\\n",
    "                        .withColumn(\"day\", get_day(time_df.ts_m)) \\\n",
    "                        .withColumn(\"week\", get_week(time_df.ts_m)) \\\n",
    "                        .withColumn(\"month\", get_month(time_df.ts_m)) \\\n",
    "                        .withColumn(\"year\", get_year(time_df.ts_m)) \\\n",
    "                        .withColumn(\"weekday\", get_weekday(time_df.ts_m)) \\\n",
    "                        .select([\"ts\",\"hour\",\"day\",\"week\",\"month\",\"year\",\"weekday\"]) \\\n",
    "                        .distinct()\n",
    "\n",
    "#time.filter(time.ts == 1542071549796).limit(1).toPandas()"
   ]
  },
  {
   "cell_type": "code",
   "execution_count": 13,
   "metadata": {
    "editable": true
   },
   "outputs": [
    {
     "data": {
      "text/html": [
       "<div>\n",
       "<style scoped>\n",
       "    .dataframe tbody tr th:only-of-type {\n",
       "        vertical-align: middle;\n",
       "    }\n",
       "\n",
       "    .dataframe tbody tr th {\n",
       "        vertical-align: top;\n",
       "    }\n",
       "\n",
       "    .dataframe thead th {\n",
       "        text-align: right;\n",
       "    }\n",
       "</style>\n",
       "<table border=\"1\" class=\"dataframe\">\n",
       "  <thead>\n",
       "    <tr style=\"text-align: right;\">\n",
       "      <th></th>\n",
       "      <th>ts</th>\n",
       "      <th>userId</th>\n",
       "      <th>level</th>\n",
       "      <th>song</th>\n",
       "      <th>artist</th>\n",
       "      <th>sessionId</th>\n",
       "      <th>location</th>\n",
       "      <th>userAgent</th>\n",
       "    </tr>\n",
       "  </thead>\n",
       "  <tbody>\n",
       "    <tr>\n",
       "      <th>0</th>\n",
       "      <td>1542069417796</td>\n",
       "      <td>66</td>\n",
       "      <td>free</td>\n",
       "      <td>None</td>\n",
       "      <td>None</td>\n",
       "      <td>514</td>\n",
       "      <td>Harrisburg-Carlisle, PA</td>\n",
       "      <td>\"Mozilla/5.0 (Macintosh; Intel Mac OS X 10_9_4...</td>\n",
       "    </tr>\n",
       "    <tr>\n",
       "      <th>1</th>\n",
       "      <td>1542069637796</td>\n",
       "      <td>66</td>\n",
       "      <td>free</td>\n",
       "      <td>Ja I Ty</td>\n",
       "      <td>Fu</td>\n",
       "      <td>514</td>\n",
       "      <td>Harrisburg-Carlisle, PA</td>\n",
       "      <td>\"Mozilla/5.0 (Macintosh; Intel Mac OS X 10_9_4...</td>\n",
       "    </tr>\n",
       "    <tr>\n",
       "      <th>2</th>\n",
       "      <td>1542071524796</td>\n",
       "      <td>51</td>\n",
       "      <td>free</td>\n",
       "      <td>None</td>\n",
       "      <td>None</td>\n",
       "      <td>510</td>\n",
       "      <td>Houston-The Woodlands-Sugar Land, TX</td>\n",
       "      <td>\"Mozilla/5.0 (Windows NT 6.3; WOW64) AppleWebK...</td>\n",
       "    </tr>\n",
       "    <tr>\n",
       "      <th>3</th>\n",
       "      <td>1542071549796</td>\n",
       "      <td>51</td>\n",
       "      <td>free</td>\n",
       "      <td>A Party Song (The Walk of Shame)</td>\n",
       "      <td>All Time Low</td>\n",
       "      <td>510</td>\n",
       "      <td>Houston-The Woodlands-Sugar Land, TX</td>\n",
       "      <td>\"Mozilla/5.0 (Windows NT 6.3; WOW64) AppleWebK...</td>\n",
       "    </tr>\n",
       "    <tr>\n",
       "      <th>4</th>\n",
       "      <td>1542079142796</td>\n",
       "      <td>9</td>\n",
       "      <td>free</td>\n",
       "      <td>Pop-Pop!</td>\n",
       "      <td>Nik &amp; Jay</td>\n",
       "      <td>379</td>\n",
       "      <td>Eureka-Arcata-Fortuna, CA</td>\n",
       "      <td>Mozilla/5.0 (Windows NT 6.1; WOW64; Trident/7....</td>\n",
       "    </tr>\n",
       "  </tbody>\n",
       "</table>\n",
       "</div>"
      ],
      "text/plain": [
       "              ts userId level                              song        artist  \\\n",
       "0  1542069417796     66  free                              None          None   \n",
       "1  1542069637796     66  free                           Ja I Ty            Fu   \n",
       "2  1542071524796     51  free                              None          None   \n",
       "3  1542071549796     51  free  A Party Song (The Walk of Shame)  All Time Low   \n",
       "4  1542079142796      9  free                          Pop-Pop!     Nik & Jay   \n",
       "\n",
       "   sessionId                              location  \\\n",
       "0        514               Harrisburg-Carlisle, PA   \n",
       "1        514               Harrisburg-Carlisle, PA   \n",
       "2        510  Houston-The Woodlands-Sugar Land, TX   \n",
       "3        510  Houston-The Woodlands-Sugar Land, TX   \n",
       "4        379             Eureka-Arcata-Fortuna, CA   \n",
       "\n",
       "                                           userAgent  \n",
       "0  \"Mozilla/5.0 (Macintosh; Intel Mac OS X 10_9_4...  \n",
       "1  \"Mozilla/5.0 (Macintosh; Intel Mac OS X 10_9_4...  \n",
       "2  \"Mozilla/5.0 (Windows NT 6.3; WOW64) AppleWebK...  \n",
       "3  \"Mozilla/5.0 (Windows NT 6.3; WOW64) AppleWebK...  \n",
       "4  Mozilla/5.0 (Windows NT 6.1; WOW64; Trident/7....  "
      ]
     },
     "execution_count": 13,
     "metadata": {},
     "output_type": "execute_result"
    }
   ],
   "source": [
    "# SongPlay data (songplay_id, start_time, user_id, level, song_id, artist_id, session_id, location, user_agent)\n",
    "songplay = log_data.select([\"ts\",\"userId\",\"level\",\"song\",\"artist\", \"sessionId\", \"location\", \"userAgent\"])\n",
    "log_data.select([\"ts\",\"userId\",\"level\",\"song\",\"artist\", \"sessionId\", \"location\", \"userAgent\"]).limit(5).toPandas()"
   ]
  },
  {
   "cell_type": "code",
   "execution_count": 16,
   "metadata": {
    "editable": true
   },
   "outputs": [],
   "source": [
    "artist_only = artist.select([\"artist_id\",\"artist_name\"]).distinct()\n",
    "songs_only = songs.select([\"song_id\",\"title\"]).distinct()\n",
    " \n",
    "result = songplay.join(artist_only, artist_only.artist_name == songplay.artist, 'inner') \\\n",
    "                 .join(songs_only, songs_only.title == songplay.song, 'inner') \\\n",
    "                 .select(songplay.ts, songplay.userId, songplay.level, songs_only.song_id, artist_only.artist_id, songplay.sessionId, songplay.location, songplay.userAgent) \\\n"
   ]
  },
  {
   "cell_type": "code",
   "execution_count": 17,
   "metadata": {
    "editable": true
   },
   "outputs": [
    {
     "data": {
      "text/html": [
       "<div>\n",
       "<style scoped>\n",
       "    .dataframe tbody tr th:only-of-type {\n",
       "        vertical-align: middle;\n",
       "    }\n",
       "\n",
       "    .dataframe tbody tr th {\n",
       "        vertical-align: top;\n",
       "    }\n",
       "\n",
       "    .dataframe thead th {\n",
       "        text-align: right;\n",
       "    }\n",
       "</style>\n",
       "<table border=\"1\" class=\"dataframe\">\n",
       "  <thead>\n",
       "    <tr style=\"text-align: right;\">\n",
       "      <th></th>\n",
       "      <th>ts</th>\n",
       "      <th>userId</th>\n",
       "      <th>level</th>\n",
       "      <th>song_id</th>\n",
       "      <th>artist_id</th>\n",
       "      <th>sessionId</th>\n",
       "      <th>location</th>\n",
       "      <th>userAgent</th>\n",
       "    </tr>\n",
       "  </thead>\n",
       "  <tbody>\n",
       "    <tr>\n",
       "      <th>0</th>\n",
       "      <td>1542140035796</td>\n",
       "      <td>95</td>\n",
       "      <td>paid</td>\n",
       "      <td>SOUPKAB12AB0185DF9</td>\n",
       "      <td>AR12F2S1187FB56EEF</td>\n",
       "      <td>411</td>\n",
       "      <td>Winston-Salem, NC</td>\n",
       "      <td>\"Mozilla/5.0 (iPhone; CPU iPhone OS 7_1_2 like...</td>\n",
       "    </tr>\n",
       "  </tbody>\n",
       "</table>\n",
       "</div>"
      ],
      "text/plain": [
       "              ts userId level             song_id           artist_id  \\\n",
       "0  1542140035796     95  paid  SOUPKAB12AB0185DF9  AR12F2S1187FB56EEF   \n",
       "\n",
       "   sessionId           location  \\\n",
       "0        411  Winston-Salem, NC   \n",
       "\n",
       "                                           userAgent  \n",
       "0  \"Mozilla/5.0 (iPhone; CPU iPhone OS 7_1_2 like...  "
      ]
     },
     "execution_count": 17,
     "metadata": {},
     "output_type": "execute_result"
    }
   ],
   "source": [
    "result.limit(5).toPandas()"
   ]
  },
  {
   "cell_type": "code",
   "execution_count": null,
   "metadata": {
    "editable": true
   },
   "outputs": [],
   "source": []
  }
 ],
 "metadata": {
  "kernelspec": {
   "display_name": "Python 3",
   "language": "python",
   "name": "python3"
  },
  "language_info": {
   "codemirror_mode": {
    "name": "ipython",
    "version": 3
   },
   "file_extension": ".py",
   "mimetype": "text/x-python",
   "name": "python",
   "nbconvert_exporter": "python",
   "pygments_lexer": "ipython3",
   "version": "3.6.3"
  }
 },
 "nbformat": 4,
 "nbformat_minor": 4
}
