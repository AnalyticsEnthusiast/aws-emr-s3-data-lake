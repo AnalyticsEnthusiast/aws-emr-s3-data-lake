{
 "cells": [
  {
   "cell_type": "markdown",
   "metadata": {
    "editable": true
   },
   "source": [
    "### Test notebook for prototyping\n",
    "\n",
    "**Name: Darren Foley**\n",
    "\n",
    "**Email: darren.foley@ucdconnect.ie**"
   ]
  },
  {
   "cell_type": "code",
   "execution_count": 1,
   "metadata": {
    "editable": true
   },
   "outputs": [],
   "source": [
    "import os\n",
    "import configparser\n",
    "from datetime import datetime\n",
    "from pyspark import SparkConf\n",
    "from pyspark import SparkContext\n",
    "from pyspark.sql import SparkSession, SQLContext\n",
    "from pyspark.sql.functions import udf, col\n",
    "from pyspark.sql.functions import year, month, dayofmonth, hour, weekofyear, date_format"
   ]
  },
  {
   "cell_type": "code",
   "execution_count": 2,
   "metadata": {
    "editable": true
   },
   "outputs": [
    {
     "name": "stdout",
     "output_type": "stream",
     "text": [
      "Collecting findspark\n",
      "  Downloading https://files.pythonhosted.org/packages/fc/2d/2e39f9a023479ea798eed4351cd66f163ce61e00c717e03c37109f00c0f2/findspark-1.4.2-py2.py3-none-any.whl\n",
      "Installing collected packages: findspark\n",
      "Successfully installed findspark-1.4.2\n"
     ]
    }
   ],
   "source": [
    "!pip install findspark"
   ]
  },
  {
   "cell_type": "code",
   "execution_count": 3,
   "metadata": {
    "editable": true
   },
   "outputs": [],
   "source": [
    "import findspark\n",
    "findspark.init()"
   ]
  },
  {
   "cell_type": "code",
   "execution_count": 4,
   "metadata": {
    "editable": true
   },
   "outputs": [],
   "source": [
    "config = configparser.ConfigParser()\n",
    "config.read('dl.cfg')\n",
    "\n",
    "os.environ['AWS_ACCESS_KEY_ID']=config.get('AWS', 'AWS_ACCESS_KEY_ID')\n",
    "os.environ['AWS_SECRET_ACCESS_KEY']=config.get('AWS', 'AWS_SECRET_ACCESS_KEY')\n",
    "\n",
    "AWS_ACCESS_KEY=config.get('AWS','AWS_ACCESS_KEY_ID')\n",
    "AWS_SECRET_KEY=config.get('AWS','AWS_SECRET_ACCESS_KEY')\n",
    "\n",
    "#!echo $AWS_ACCESS_KEY_ID\n",
    "#!echo $AWS_SECRET_ACCESS_KEY"
   ]
  },
  {
   "cell_type": "code",
   "execution_count": 5,
   "metadata": {
    "editable": true
   },
   "outputs": [],
   "source": [
    "\n",
    "conf = SparkConf()\n",
    "conf.set('spark.jars.packages', 'org.apache.hadoop:hadoop-aws:2.7.0')\n",
    "sc = SparkContext(conf=conf)\n",
    "\n",
    "# add aws credentials\n",
    "sc._jsc.hadoopConfiguration().set(\"fs.s3n.awsAccessKeyId\", AWS_ACCESS_KEY)\n",
    "sc._jsc.hadoopConfiguration().set(\"fs.s3n.awsSecretAccessKey\", AWS_SECRET_KEY)\n",
    "sc._jsc.hadoopConfiguration().set(\"fs.s3a.impl\", \"org.apache.hadoop.fs.s3a.S3AFileSystem\")\n",
    "\n",
    "#creating the context\n",
    "sqlContext = SQLContext(sc)"
   ]
  },
  {
   "cell_type": "code",
   "execution_count": 6,
   "metadata": {
    "editable": true
   },
   "outputs": [],
   "source": [
    "#reading the first csv file and store it in an RDD\n",
    "rdd= sqlContext.read.json(\"s3a://udacity-dend/song_data/A/{A,Z}/{A,Z}/*.json\")"
   ]
  },
  {
   "cell_type": "code",
   "execution_count": 7,
   "metadata": {
    "editable": true
   },
   "outputs": [
    {
     "data": {
      "text/html": [
       "<div>\n",
       "<style scoped>\n",
       "    .dataframe tbody tr th:only-of-type {\n",
       "        vertical-align: middle;\n",
       "    }\n",
       "\n",
       "    .dataframe tbody tr th {\n",
       "        vertical-align: top;\n",
       "    }\n",
       "\n",
       "    .dataframe thead th {\n",
       "        text-align: right;\n",
       "    }\n",
       "</style>\n",
       "<table border=\"1\" class=\"dataframe\">\n",
       "  <thead>\n",
       "    <tr style=\"text-align: right;\">\n",
       "      <th></th>\n",
       "      <th>artist_id</th>\n",
       "      <th>artist_latitude</th>\n",
       "      <th>artist_location</th>\n",
       "      <th>artist_longitude</th>\n",
       "      <th>artist_name</th>\n",
       "      <th>duration</th>\n",
       "      <th>num_songs</th>\n",
       "      <th>song_id</th>\n",
       "      <th>title</th>\n",
       "      <th>year</th>\n",
       "    </tr>\n",
       "  </thead>\n",
       "  <tbody>\n",
       "    <tr>\n",
       "      <th>0</th>\n",
       "      <td>ARTC1LV1187B9A4858</td>\n",
       "      <td>51.45360</td>\n",
       "      <td>Goldsmith's College, Lewisham, Lo</td>\n",
       "      <td>-0.01802</td>\n",
       "      <td>The Bonzo Dog Band</td>\n",
       "      <td>301.40036</td>\n",
       "      <td>1</td>\n",
       "      <td>SOAFBCP12A8C13CC7D</td>\n",
       "      <td>King Of Scurf (2007 Digital Remaster)</td>\n",
       "      <td>1972</td>\n",
       "    </tr>\n",
       "    <tr>\n",
       "      <th>1</th>\n",
       "      <td>ARA23XO1187B9AF18F</td>\n",
       "      <td>40.57885</td>\n",
       "      <td>Carteret, New Jersey</td>\n",
       "      <td>-74.21956</td>\n",
       "      <td>The Smithereens</td>\n",
       "      <td>192.52200</td>\n",
       "      <td>1</td>\n",
       "      <td>SOKTJDS12AF72A25E5</td>\n",
       "      <td>Drown In My Own Tears (24-Bit Digitally Remast...</td>\n",
       "      <td>0</td>\n",
       "    </tr>\n",
       "    <tr>\n",
       "      <th>2</th>\n",
       "      <td>ARM66431187FB4CD0B</td>\n",
       "      <td>54.32740</td>\n",
       "      <td>Downpatrick, Co. Down, Northern Ireland</td>\n",
       "      <td>-5.70496</td>\n",
       "      <td>Ash</td>\n",
       "      <td>384.96608</td>\n",
       "      <td>1</td>\n",
       "      <td>SOVYBAW12A8C144CD4</td>\n",
       "      <td>Twilight Of The Innocents - (i-Tunes Festival)</td>\n",
       "      <td>0</td>\n",
       "    </tr>\n",
       "    <tr>\n",
       "      <th>3</th>\n",
       "      <td>ARMB9SV1187B99CFF9</td>\n",
       "      <td>NaN</td>\n",
       "      <td></td>\n",
       "      <td>NaN</td>\n",
       "      <td>The Last Electro-Acoustic Space Jazz &amp; Percuss...</td>\n",
       "      <td>237.03465</td>\n",
       "      <td>1</td>\n",
       "      <td>SOWXPRB12AB018A4CA</td>\n",
       "      <td>Waltz For Woody (For Woody Shaw)</td>\n",
       "      <td>2010</td>\n",
       "    </tr>\n",
       "    <tr>\n",
       "      <th>4</th>\n",
       "      <td>ARSVTNL1187B992A91</td>\n",
       "      <td>51.50632</td>\n",
       "      <td>London, England</td>\n",
       "      <td>-0.12714</td>\n",
       "      <td>Jonathan King</td>\n",
       "      <td>129.85424</td>\n",
       "      <td>1</td>\n",
       "      <td>SOEKAZG12AB018837E</td>\n",
       "      <td>I'll Slap Your Face (Entertainment USA Theme)</td>\n",
       "      <td>2001</td>\n",
       "    </tr>\n",
       "  </tbody>\n",
       "</table>\n",
       "</div>"
      ],
      "text/plain": [
       "            artist_id  artist_latitude  \\\n",
       "0  ARTC1LV1187B9A4858         51.45360   \n",
       "1  ARA23XO1187B9AF18F         40.57885   \n",
       "2  ARM66431187FB4CD0B         54.32740   \n",
       "3  ARMB9SV1187B99CFF9              NaN   \n",
       "4  ARSVTNL1187B992A91         51.50632   \n",
       "\n",
       "                           artist_location  artist_longitude  \\\n",
       "0        Goldsmith's College, Lewisham, Lo          -0.01802   \n",
       "1                     Carteret, New Jersey         -74.21956   \n",
       "2  Downpatrick, Co. Down, Northern Ireland          -5.70496   \n",
       "3                                                        NaN   \n",
       "4                          London, England          -0.12714   \n",
       "\n",
       "                                         artist_name   duration  num_songs  \\\n",
       "0                                 The Bonzo Dog Band  301.40036          1   \n",
       "1                                    The Smithereens  192.52200          1   \n",
       "2                                                Ash  384.96608          1   \n",
       "3  The Last Electro-Acoustic Space Jazz & Percuss...  237.03465          1   \n",
       "4                                      Jonathan King  129.85424          1   \n",
       "\n",
       "              song_id                                              title  year  \n",
       "0  SOAFBCP12A8C13CC7D              King Of Scurf (2007 Digital Remaster)  1972  \n",
       "1  SOKTJDS12AF72A25E5  Drown In My Own Tears (24-Bit Digitally Remast...     0  \n",
       "2  SOVYBAW12A8C144CD4     Twilight Of The Innocents - (i-Tunes Festival)     0  \n",
       "3  SOWXPRB12AB018A4CA                   Waltz For Woody (For Woody Shaw)  2010  \n",
       "4  SOEKAZG12AB018837E      I'll Slap Your Face (Entertainment USA Theme)  2001  "
      ]
     },
     "execution_count": 7,
     "metadata": {},
     "output_type": "execute_result"
    }
   ],
   "source": [
    "rdd.limit(5).toPandas()"
   ]
  },
  {
   "cell_type": "code",
   "execution_count": 8,
   "metadata": {
    "editable": true
   },
   "outputs": [
    {
     "name": "stdout",
     "output_type": "stream",
     "text": [
      "root\n",
      " |-- artist_id: string (nullable = true)\n",
      " |-- artist_latitude: double (nullable = true)\n",
      " |-- artist_location: string (nullable = true)\n",
      " |-- artist_longitude: double (nullable = true)\n",
      " |-- artist_name: string (nullable = true)\n",
      " |-- duration: double (nullable = true)\n",
      " |-- num_songs: long (nullable = true)\n",
      " |-- song_id: string (nullable = true)\n",
      " |-- title: string (nullable = true)\n",
      " |-- year: long (nullable = true)\n",
      "\n"
     ]
    }
   ],
   "source": [
    "rdd.printSchema()"
   ]
  },
  {
   "cell_type": "code",
   "execution_count": 9,
   "metadata": {
    "editable": true
   },
   "outputs": [
    {
     "data": {
      "text/plain": [
       "73"
      ]
     },
     "execution_count": 9,
     "metadata": {},
     "output_type": "execute_result"
    }
   ],
   "source": [
    "rdd.count()"
   ]
  },
  {
   "cell_type": "markdown",
   "metadata": {
    "editable": true
   },
   "source": [
    "#### Extract to songs table"
   ]
  },
  {
   "cell_type": "code",
   "execution_count": 12,
   "metadata": {
    "editable": true
   },
   "outputs": [
    {
     "data": {
      "text/plain": [
       "73"
      ]
     },
     "execution_count": 12,
     "metadata": {},
     "output_type": "execute_result"
    }
   ],
   "source": [
    "#song_id, title, artist_id, year, duration\n",
    "#rdd.select([\"song_id\",\"title\",\"artist_id\",\"year\",\"duration\"]).limit(5).toPandas()\n",
    "songs = rdd.select([\"song_id\",\"title\",\"artist_id\",\"year\",\"duration\"]).distinct()\n",
    "#songs.limit(5).toPandas()\n",
    "songs.count()"
   ]
  },
  {
   "cell_type": "markdown",
   "metadata": {
    "editable": true
   },
   "source": [
    "#### Extract to artist table"
   ]
  },
  {
   "cell_type": "code",
   "execution_count": 10,
   "metadata": {
    "editable": true
   },
   "outputs": [
    {
     "data": {
      "text/plain": [
       "73"
      ]
     },
     "execution_count": 10,
     "metadata": {},
     "output_type": "execute_result"
    }
   ],
   "source": [
    "#Artists table\n",
    "#artist_id, name, location, lattitude, longitude\n",
    "artist = rdd.select([\"artist_id\",\"artist_name\",\"artist_location\",\"artist_latitude\",\"artist_longitude\"]).distinct()\n",
    "#artist.limit(5).toPandas()\n",
    "artist.select([\"artist_name\"]).count()"
   ]
  },
  {
   "cell_type": "markdown",
   "metadata": {
    "editable": true
   },
   "source": [
    "#### Partitioning\n",
    "\n",
    "Songs table files are partitioned by year and then artist. - Songs(year,Artist)\n",
    "\n",
    "Time table files are partitioned by year and month. - Time(year, month)\n",
    "\n",
    "Songplays table files are partitioned by year and month. - songPlays(year, month)"
   ]
  },
  {
   "cell_type": "code",
   "execution_count": 15,
   "metadata": {
    "editable": true
   },
   "outputs": [],
   "source": [
    "songs.write.format(\"parquet\").partitionBy(\"year\", \"artist_id\").mode(\"overwrite\").save(\"tmp/parquet_test.parquet\")\n",
    "artist.write.format(\"parquet\").partitionBy(\"artist_name\").mode(\"overwrite\").save(\"tmp/parquet_test.parquet\")"
   ]
  },
  {
   "cell_type": "markdown",
   "metadata": {
    "editable": true
   },
   "source": [
    "#### Writing parquet to S3 bucket in us-west-2"
   ]
  },
  {
   "cell_type": "code",
   "execution_count": 19,
   "metadata": {
    "editable": true
   },
   "outputs": [],
   "source": [
    "artist.write.format(\"parquet\").partitionBy(\"artist_name\").mode(\"overwrite\").parquet(\"s3a://sparkify-data-lake-df/test/artist\")"
   ]
  },
  {
   "cell_type": "code",
   "execution_count": null,
   "metadata": {
    "editable": true
   },
   "outputs": [],
   "source": []
  }
 ],
 "metadata": {
  "kernelspec": {
   "display_name": "Python 3",
   "language": "python",
   "name": "python3"
  },
  "language_info": {
   "codemirror_mode": {
    "name": "ipython",
    "version": 3
   },
   "file_extension": ".py",
   "mimetype": "text/x-python",
   "name": "python",
   "nbconvert_exporter": "python",
   "pygments_lexer": "ipython3",
   "version": "3.6.3"
  }
 },
 "nbformat": 4,
 "nbformat_minor": 4
}
