{
 "cells": [
  {
   "cell_type": "markdown",
   "metadata": {
    "editable": true
   },
   "source": [
    "### Test notebook for prototyping\n",
    "\n",
    "**Name: Darren Foley**\n",
    "\n",
    "**Email: darren.foley@ucdconnect.ie**"
   ]
  },
  {
   "cell_type": "code",
   "execution_count": 1,
   "metadata": {
    "editable": true
   },
   "outputs": [],
   "source": [
    "import os\n",
    "import configparser\n",
    "from datetime import datetime\n",
    "from pyspark import SparkConf\n",
    "from pyspark import SparkContext\n",
    "from pyspark.sql.types import StructType, StructField, StringType, DoubleType, LongType\n",
    "from pyspark.sql import SparkSession, SQLContext\n",
    "from pyspark.sql.functions import udf, col\n",
    "from pyspark.sql.functions import year, month, dayofmonth, hour, weekofyear, date_format"
   ]
  },
  {
   "cell_type": "code",
   "execution_count": 2,
   "metadata": {
    "editable": true
   },
   "outputs": [
    {
     "name": "stdout",
     "output_type": "stream",
     "text": [
      "Collecting findspark\n",
      "  Downloading https://files.pythonhosted.org/packages/fc/2d/2e39f9a023479ea798eed4351cd66f163ce61e00c717e03c37109f00c0f2/findspark-1.4.2-py2.py3-none-any.whl\n",
      "Installing collected packages: findspark\n",
      "Successfully installed findspark-1.4.2\n"
     ]
    }
   ],
   "source": [
    "!pip install findspark"
   ]
  },
  {
   "cell_type": "code",
   "execution_count": 3,
   "metadata": {
    "editable": true
   },
   "outputs": [],
   "source": [
    "import findspark\n",
    "findspark.init()"
   ]
  },
  {
   "cell_type": "code",
   "execution_count": 4,
   "metadata": {
    "editable": true
   },
   "outputs": [],
   "source": [
    "config = configparser.ConfigParser()\n",
    "config.read('dl.cfg')\n",
    "\n",
    "os.environ['AWS_ACCESS_KEY_ID']=config.get('AWS', 'AWS_ACCESS_KEY_ID')\n",
    "os.environ['AWS_SECRET_ACCESS_KEY']=config.get('AWS', 'AWS_SECRET_ACCESS_KEY')\n",
    "\n",
    "AWS_ACCESS_KEY=config.get('AWS','AWS_ACCESS_KEY_ID')\n",
    "AWS_SECRET_KEY=config.get('AWS','AWS_SECRET_ACCESS_KEY')\n",
    "\n",
    "#!echo $AWS_ACCESS_KEY_ID\n",
    "#!echo $AWS_SECRET_ACCESS_KEY"
   ]
  },
  {
   "cell_type": "code",
   "execution_count": 5,
   "metadata": {
    "editable": true
   },
   "outputs": [],
   "source": [
    "\n",
    "conf = SparkConf()\n",
    "conf.set('spark.jars.packages', 'org.apache.hadoop:hadoop-aws:2.7.0')\n",
    "sc = SparkContext(conf=conf)\n",
    "\n",
    "# add aws credentials\n",
    "sc._jsc.hadoopConfiguration().set(\"fs.s3n.awsAccessKeyId\", AWS_ACCESS_KEY)\n",
    "sc._jsc.hadoopConfiguration().set(\"fs.s3n.awsSecretAccessKey\", AWS_SECRET_KEY)\n",
    "sc._jsc.hadoopConfiguration().set(\"fs.s3a.impl\", \"org.apache.hadoop.fs.s3a.S3AFileSystem\")\n",
    "\n",
    "#creating the context\n",
    "sqlContext = SQLContext(sc)"
   ]
  },
  {
   "cell_type": "code",
   "execution_count": 6,
   "metadata": {
    "editable": true
   },
   "outputs": [],
   "source": [
    "song_schema = StructType([StructField(\"artist_id\",StringType(),True), \\\n",
    "                         StructField(\"artist_latitude\",DoubleType(),True), \\\n",
    "                         StructField(\"artist_location\",StringType(),True), \\\n",
    "                         StructField(\"artist_longitude\",DoubleType(),True), \\\n",
    "                         StructField(\"artist_name\",StringType(),True), \\\n",
    "                         StructField(\"duration\",DoubleType(),True), \\\n",
    "                         StructField(\"num_songs\",LongType(),True), \\\n",
    "                         StructField(\"song_id\",StringType(),True), \\\n",
    "                         StructField(\"title\",StringType(),True), \\\n",
    "                         StructField(\"year\",LongType(),True)])"
   ]
  },
  {
   "cell_type": "code",
   "execution_count": 7,
   "metadata": {
    "editable": true
   },
   "outputs": [],
   "source": [
    "#reading the first csv file and store it in an RDD\n",
    "song_data = sqlContext.read.json(\"s3a://udacity-dend/song_data/*/*/*/*.json\", schema = song_schema)\n",
    "#song_data = sqlContext.read.json(\"s3a://udacity-dend/song_data/A/A/A/*.json\")"
   ]
  },
  {
   "cell_type": "code",
   "execution_count": 8,
   "metadata": {
    "editable": true
   },
   "outputs": [
    {
     "data": {
      "text/html": [
       "<div>\n",
       "<style scoped>\n",
       "    .dataframe tbody tr th:only-of-type {\n",
       "        vertical-align: middle;\n",
       "    }\n",
       "\n",
       "    .dataframe tbody tr th {\n",
       "        vertical-align: top;\n",
       "    }\n",
       "\n",
       "    .dataframe thead th {\n",
       "        text-align: right;\n",
       "    }\n",
       "</style>\n",
       "<table border=\"1\" class=\"dataframe\">\n",
       "  <thead>\n",
       "    <tr style=\"text-align: right;\">\n",
       "      <th></th>\n",
       "      <th>artist_id</th>\n",
       "      <th>artist_latitude</th>\n",
       "      <th>artist_location</th>\n",
       "      <th>artist_longitude</th>\n",
       "      <th>artist_name</th>\n",
       "      <th>duration</th>\n",
       "      <th>num_songs</th>\n",
       "      <th>song_id</th>\n",
       "      <th>title</th>\n",
       "      <th>year</th>\n",
       "    </tr>\n",
       "  </thead>\n",
       "  <tbody>\n",
       "    <tr>\n",
       "      <th>0</th>\n",
       "      <td>AR4T2IF1187B9ADBB7</td>\n",
       "      <td>63.96027</td>\n",
       "      <td>&lt;a href=\"http://billyidol.net\" onmousedown='Un...</td>\n",
       "      <td>10.22442</td>\n",
       "      <td>Billy Idol</td>\n",
       "      <td>233.22077</td>\n",
       "      <td>1</td>\n",
       "      <td>SOVIYJY12AF72A4B00</td>\n",
       "      <td>The Dead Next Door (Digitally Remastered 99)</td>\n",
       "      <td>1983</td>\n",
       "    </tr>\n",
       "    <tr>\n",
       "      <th>1</th>\n",
       "      <td>AR4T2IF1187B9ADBB7</td>\n",
       "      <td>63.96027</td>\n",
       "      <td>&lt;a href=\"http://billyidol.net\" onmousedown='Un...</td>\n",
       "      <td>10.22442</td>\n",
       "      <td>Billy Idol</td>\n",
       "      <td>287.92118</td>\n",
       "      <td>1</td>\n",
       "      <td>SOVYXYL12AF72A3373</td>\n",
       "      <td>Rebel Yell (1999 Digital Remaster)</td>\n",
       "      <td>1983</td>\n",
       "    </tr>\n",
       "    <tr>\n",
       "      <th>2</th>\n",
       "      <td>ARQ846I1187B9A7083</td>\n",
       "      <td>NaN</td>\n",
       "      <td></td>\n",
       "      <td>NaN</td>\n",
       "      <td>Yvonne S. Moriarty / Walt Fowler / Ladd McInto...</td>\n",
       "      <td>196.04853</td>\n",
       "      <td>1</td>\n",
       "      <td>SOEPTVC12A67ADD0DA</td>\n",
       "      <td>To Zucchabar [\"Gladiator\" - Music from the Mot...</td>\n",
       "      <td>0</td>\n",
       "    </tr>\n",
       "    <tr>\n",
       "      <th>3</th>\n",
       "      <td>AR4T2IF1187B9ADBB7</td>\n",
       "      <td>63.96027</td>\n",
       "      <td>&lt;a href=\"http://billyidol.net\" onmousedown='Un...</td>\n",
       "      <td>10.22442</td>\n",
       "      <td>Billy Idol</td>\n",
       "      <td>247.53587</td>\n",
       "      <td>1</td>\n",
       "      <td>SOLQYSZ12AB0181F97</td>\n",
       "      <td>Mony Mony (Live)</td>\n",
       "      <td>1987</td>\n",
       "    </tr>\n",
       "    <tr>\n",
       "      <th>4</th>\n",
       "      <td>AR3TZ691187FB3DBB1</td>\n",
       "      <td>NaN</td>\n",
       "      <td></td>\n",
       "      <td>NaN</td>\n",
       "      <td>Russell Watson / Pino Palladino / Robbie McInt...</td>\n",
       "      <td>273.44934</td>\n",
       "      <td>1</td>\n",
       "      <td>SOVPFJK12A6701CB16</td>\n",
       "      <td>Barcelona - (Friends until the end)</td>\n",
       "      <td>2000</td>\n",
       "    </tr>\n",
       "  </tbody>\n",
       "</table>\n",
       "</div>"
      ],
      "text/plain": [
       "            artist_id  artist_latitude  \\\n",
       "0  AR4T2IF1187B9ADBB7         63.96027   \n",
       "1  AR4T2IF1187B9ADBB7         63.96027   \n",
       "2  ARQ846I1187B9A7083              NaN   \n",
       "3  AR4T2IF1187B9ADBB7         63.96027   \n",
       "4  AR3TZ691187FB3DBB1              NaN   \n",
       "\n",
       "                                     artist_location  artist_longitude  \\\n",
       "0  <a href=\"http://billyidol.net\" onmousedown='Un...          10.22442   \n",
       "1  <a href=\"http://billyidol.net\" onmousedown='Un...          10.22442   \n",
       "2                                                                  NaN   \n",
       "3  <a href=\"http://billyidol.net\" onmousedown='Un...          10.22442   \n",
       "4                                                                  NaN   \n",
       "\n",
       "                                         artist_name   duration  num_songs  \\\n",
       "0                                         Billy Idol  233.22077          1   \n",
       "1                                         Billy Idol  287.92118          1   \n",
       "2  Yvonne S. Moriarty / Walt Fowler / Ladd McInto...  196.04853          1   \n",
       "3                                         Billy Idol  247.53587          1   \n",
       "4  Russell Watson / Pino Palladino / Robbie McInt...  273.44934          1   \n",
       "\n",
       "              song_id                                              title  year  \n",
       "0  SOVIYJY12AF72A4B00       The Dead Next Door (Digitally Remastered 99)  1983  \n",
       "1  SOVYXYL12AF72A3373                 Rebel Yell (1999 Digital Remaster)  1983  \n",
       "2  SOEPTVC12A67ADD0DA  To Zucchabar [\"Gladiator\" - Music from the Mot...     0  \n",
       "3  SOLQYSZ12AB0181F97                                   Mony Mony (Live)  1987  \n",
       "4  SOVPFJK12A6701CB16                Barcelona - (Friends until the end)  2000  "
      ]
     },
     "execution_count": 8,
     "metadata": {},
     "output_type": "execute_result"
    }
   ],
   "source": [
    "song_data.limit(5).toPandas()"
   ]
  },
  {
   "cell_type": "code",
   "execution_count": 9,
   "metadata": {
    "editable": true
   },
   "outputs": [
    {
     "data": {
      "text/plain": [
       "14896"
      ]
     },
     "execution_count": 9,
     "metadata": {},
     "output_type": "execute_result"
    }
   ],
   "source": [
    "song_data.count()"
   ]
  },
  {
   "cell_type": "code",
   "execution_count": 9,
   "metadata": {
    "editable": true
   },
   "outputs": [
    {
     "data": {
      "text/plain": [
       "73"
      ]
     },
     "execution_count": 9,
     "metadata": {},
     "output_type": "execute_result"
    }
   ],
   "source": [
    "song_data.printSchema()"
   ]
  },
  {
   "cell_type": "markdown",
   "metadata": {
    "editable": true
   },
   "source": [
    "#### Extract to songs table"
   ]
  },
  {
   "cell_type": "code",
   "execution_count": 8,
   "metadata": {
    "editable": true
   },
   "outputs": [
    {
     "data": {
      "text/plain": [
       "73"
      ]
     },
     "execution_count": 8,
     "metadata": {},
     "output_type": "execute_result"
    }
   ],
   "source": [
    "#song_id, title, artist_id, year, duration\n",
    "#rdd.select([\"song_id\",\"title\",\"artist_id\",\"year\",\"duration\"]).limit(5).toPandas()\n",
    "songs = song_data.select([\"song_id\",\"title\",\"artist_id\",\"year\",\"duration\"]).distinct()\n",
    "#songs.limit(5).toPandas()\n",
    "songs.count()"
   ]
  },
  {
   "cell_type": "markdown",
   "metadata": {
    "editable": true
   },
   "source": [
    "#### Extract to artist table"
   ]
  },
  {
   "cell_type": "code",
   "execution_count": 9,
   "metadata": {
    "editable": true
   },
   "outputs": [
    {
     "data": {
      "text/plain": [
       "73"
      ]
     },
     "execution_count": 9,
     "metadata": {},
     "output_type": "execute_result"
    }
   ],
   "source": [
    "#Artists table\n",
    "#artist_id, name, location, lattitude, longitude\n",
    "artist = song_data.select([\"artist_id\",\"artist_name\",\"artist_location\",\"artist_latitude\",\"artist_longitude\"]).distinct()\n",
    "#artist.limit(5).toPandas()\n",
    "artist.select([\"artist_name\"]).count()"
   ]
  },
  {
   "cell_type": "markdown",
   "metadata": {
    "editable": true
   },
   "source": [
    "#### Partitioning\n",
    "\n",
    "Songs table files are partitioned by year and then artist. - Songs(year,Artist)\n",
    "\n",
    "Time table files are partitioned by year and month. - Time(year, month)\n",
    "\n",
    "Songplays table files are partitioned by year and month. - songPlays(year, month)"
   ]
  },
  {
   "cell_type": "code",
   "execution_count": 15,
   "metadata": {
    "editable": true
   },
   "outputs": [],
   "source": [
    "songs.write.format(\"parquet\").partitionBy(\"year\", \"artist_id\").mode(\"overwrite\").save(\"tmp/parquet_test.parquet\")\n",
    "artist.write.format(\"parquet\").partitionBy(\"artist_name\").mode(\"overwrite\").save(\"tmp/parquet_test.parquet\")"
   ]
  },
  {
   "cell_type": "markdown",
   "metadata": {
    "editable": true
   },
   "source": [
    "#### Writing parquet to S3 bucket in us-west-2"
   ]
  },
  {
   "cell_type": "code",
   "execution_count": 19,
   "metadata": {
    "editable": true
   },
   "outputs": [],
   "source": [
    "artist.write.format(\"parquet\").partitionBy(\"artist_name\").mode(\"overwrite\").parquet(\"s3a://sparkify-data-lake-df/test/artist\")"
   ]
  },
  {
   "cell_type": "markdown",
   "metadata": {
    "editable": true
   },
   "source": [
    "### Processing log data\n",
    "\n",
    "s3a://udacity-dend/log_data/"
   ]
  },
  {
   "cell_type": "markdown",
   "metadata": {
    "editable": true
   },
   "source": [
    "\n",
    "Sample path: s3a://udacity-dend/log_data/2018/11/2018-11-13-events.json\n"
   ]
  },
  {
   "cell_type": "code",
   "execution_count": 10,
   "metadata": {
    "editable": true
   },
   "outputs": [],
   "source": [
    "#log_data= sqlContext.read.json(\"s3a://udacity-dend/log_data/2018/11/2018-11-13-events.json\")\n",
    "log_data= sqlContext.read.json(\"s3a://udacity-dend/log_data/*/*/*.json\")"
   ]
  },
  {
   "cell_type": "code",
   "execution_count": 11,
   "metadata": {
    "editable": true
   },
   "outputs": [
    {
     "data": {
      "text/html": [
       "<div>\n",
       "<style scoped>\n",
       "    .dataframe tbody tr th:only-of-type {\n",
       "        vertical-align: middle;\n",
       "    }\n",
       "\n",
       "    .dataframe tbody tr th {\n",
       "        vertical-align: top;\n",
       "    }\n",
       "\n",
       "    .dataframe thead th {\n",
       "        text-align: right;\n",
       "    }\n",
       "</style>\n",
       "<table border=\"1\" class=\"dataframe\">\n",
       "  <thead>\n",
       "    <tr style=\"text-align: right;\">\n",
       "      <th></th>\n",
       "      <th>artist</th>\n",
       "      <th>auth</th>\n",
       "      <th>firstName</th>\n",
       "      <th>gender</th>\n",
       "      <th>itemInSession</th>\n",
       "      <th>lastName</th>\n",
       "      <th>length</th>\n",
       "      <th>level</th>\n",
       "      <th>location</th>\n",
       "      <th>method</th>\n",
       "      <th>page</th>\n",
       "      <th>registration</th>\n",
       "      <th>sessionId</th>\n",
       "      <th>song</th>\n",
       "      <th>status</th>\n",
       "      <th>ts</th>\n",
       "      <th>userAgent</th>\n",
       "      <th>userId</th>\n",
       "    </tr>\n",
       "  </thead>\n",
       "  <tbody>\n",
       "    <tr>\n",
       "      <th>0</th>\n",
       "      <td>Harmonia</td>\n",
       "      <td>Logged In</td>\n",
       "      <td>Ryan</td>\n",
       "      <td>M</td>\n",
       "      <td>0</td>\n",
       "      <td>Smith</td>\n",
       "      <td>655.77751</td>\n",
       "      <td>free</td>\n",
       "      <td>San Jose-Sunnyvale-Santa Clara, CA</td>\n",
       "      <td>PUT</td>\n",
       "      <td>NextSong</td>\n",
       "      <td>1.541017e+12</td>\n",
       "      <td>583</td>\n",
       "      <td>Sehr kosmisch</td>\n",
       "      <td>200</td>\n",
       "      <td>1542241826796</td>\n",
       "      <td>\"Mozilla/5.0 (X11; Linux x86_64) AppleWebKit/5...</td>\n",
       "      <td>26</td>\n",
       "    </tr>\n",
       "    <tr>\n",
       "      <th>1</th>\n",
       "      <td>The Prodigy</td>\n",
       "      <td>Logged In</td>\n",
       "      <td>Ryan</td>\n",
       "      <td>M</td>\n",
       "      <td>1</td>\n",
       "      <td>Smith</td>\n",
       "      <td>260.07465</td>\n",
       "      <td>free</td>\n",
       "      <td>San Jose-Sunnyvale-Santa Clara, CA</td>\n",
       "      <td>PUT</td>\n",
       "      <td>NextSong</td>\n",
       "      <td>1.541017e+12</td>\n",
       "      <td>583</td>\n",
       "      <td>The Big Gundown</td>\n",
       "      <td>200</td>\n",
       "      <td>1542242481796</td>\n",
       "      <td>\"Mozilla/5.0 (X11; Linux x86_64) AppleWebKit/5...</td>\n",
       "      <td>26</td>\n",
       "    </tr>\n",
       "    <tr>\n",
       "      <th>2</th>\n",
       "      <td>Train</td>\n",
       "      <td>Logged In</td>\n",
       "      <td>Ryan</td>\n",
       "      <td>M</td>\n",
       "      <td>2</td>\n",
       "      <td>Smith</td>\n",
       "      <td>205.45261</td>\n",
       "      <td>free</td>\n",
       "      <td>San Jose-Sunnyvale-Santa Clara, CA</td>\n",
       "      <td>PUT</td>\n",
       "      <td>NextSong</td>\n",
       "      <td>1.541017e+12</td>\n",
       "      <td>583</td>\n",
       "      <td>Marry Me</td>\n",
       "      <td>200</td>\n",
       "      <td>1542242741796</td>\n",
       "      <td>\"Mozilla/5.0 (X11; Linux x86_64) AppleWebKit/5...</td>\n",
       "      <td>26</td>\n",
       "    </tr>\n",
       "    <tr>\n",
       "      <th>3</th>\n",
       "      <td>None</td>\n",
       "      <td>Logged In</td>\n",
       "      <td>Wyatt</td>\n",
       "      <td>M</td>\n",
       "      <td>0</td>\n",
       "      <td>Scott</td>\n",
       "      <td>NaN</td>\n",
       "      <td>free</td>\n",
       "      <td>Eureka-Arcata-Fortuna, CA</td>\n",
       "      <td>GET</td>\n",
       "      <td>Home</td>\n",
       "      <td>1.540872e+12</td>\n",
       "      <td>563</td>\n",
       "      <td>None</td>\n",
       "      <td>200</td>\n",
       "      <td>1542247071796</td>\n",
       "      <td>Mozilla/5.0 (Windows NT 6.1; WOW64; Trident/7....</td>\n",
       "      <td>9</td>\n",
       "    </tr>\n",
       "    <tr>\n",
       "      <th>4</th>\n",
       "      <td>None</td>\n",
       "      <td>Logged In</td>\n",
       "      <td>Austin</td>\n",
       "      <td>M</td>\n",
       "      <td>0</td>\n",
       "      <td>Rosales</td>\n",
       "      <td>NaN</td>\n",
       "      <td>free</td>\n",
       "      <td>New York-Newark-Jersey City, NY-NJ-PA</td>\n",
       "      <td>GET</td>\n",
       "      <td>Home</td>\n",
       "      <td>1.541060e+12</td>\n",
       "      <td>521</td>\n",
       "      <td>None</td>\n",
       "      <td>200</td>\n",
       "      <td>1542252577796</td>\n",
       "      <td>Mozilla/5.0 (Windows NT 6.1; rv:31.0) Gecko/20...</td>\n",
       "      <td>12</td>\n",
       "    </tr>\n",
       "  </tbody>\n",
       "</table>\n",
       "</div>"
      ],
      "text/plain": [
       "        artist       auth firstName gender  itemInSession lastName     length  \\\n",
       "0     Harmonia  Logged In      Ryan      M              0    Smith  655.77751   \n",
       "1  The Prodigy  Logged In      Ryan      M              1    Smith  260.07465   \n",
       "2        Train  Logged In      Ryan      M              2    Smith  205.45261   \n",
       "3         None  Logged In     Wyatt      M              0    Scott        NaN   \n",
       "4         None  Logged In    Austin      M              0  Rosales        NaN   \n",
       "\n",
       "  level                               location method      page  registration  \\\n",
       "0  free     San Jose-Sunnyvale-Santa Clara, CA    PUT  NextSong  1.541017e+12   \n",
       "1  free     San Jose-Sunnyvale-Santa Clara, CA    PUT  NextSong  1.541017e+12   \n",
       "2  free     San Jose-Sunnyvale-Santa Clara, CA    PUT  NextSong  1.541017e+12   \n",
       "3  free              Eureka-Arcata-Fortuna, CA    GET      Home  1.540872e+12   \n",
       "4  free  New York-Newark-Jersey City, NY-NJ-PA    GET      Home  1.541060e+12   \n",
       "\n",
       "   sessionId             song  status             ts  \\\n",
       "0        583    Sehr kosmisch     200  1542241826796   \n",
       "1        583  The Big Gundown     200  1542242481796   \n",
       "2        583         Marry Me     200  1542242741796   \n",
       "3        563             None     200  1542247071796   \n",
       "4        521             None     200  1542252577796   \n",
       "\n",
       "                                           userAgent userId  \n",
       "0  \"Mozilla/5.0 (X11; Linux x86_64) AppleWebKit/5...     26  \n",
       "1  \"Mozilla/5.0 (X11; Linux x86_64) AppleWebKit/5...     26  \n",
       "2  \"Mozilla/5.0 (X11; Linux x86_64) AppleWebKit/5...     26  \n",
       "3  Mozilla/5.0 (Windows NT 6.1; WOW64; Trident/7....      9  \n",
       "4  Mozilla/5.0 (Windows NT 6.1; rv:31.0) Gecko/20...     12  "
      ]
     },
     "execution_count": 11,
     "metadata": {},
     "output_type": "execute_result"
    }
   ],
   "source": [
    "log_data.limit(5).toPandas()"
   ]
  },
  {
   "cell_type": "code",
   "execution_count": 12,
   "metadata": {
    "editable": true
   },
   "outputs": [
    {
     "data": {
      "text/plain": [
       "8056"
      ]
     },
     "execution_count": 12,
     "metadata": {},
     "output_type": "execute_result"
    }
   ],
   "source": [
    "log_data.count()"
   ]
  },
  {
   "cell_type": "code",
   "execution_count": 8,
   "metadata": {
    "editable": true
   },
   "outputs": [
    {
     "name": "stdout",
     "output_type": "stream",
     "text": [
      "root\n",
      " |-- artist: string (nullable = true)\n",
      " |-- auth: string (nullable = true)\n",
      " |-- firstName: string (nullable = true)\n",
      " |-- gender: string (nullable = true)\n",
      " |-- itemInSession: long (nullable = true)\n",
      " |-- lastName: string (nullable = true)\n",
      " |-- length: double (nullable = true)\n",
      " |-- level: string (nullable = true)\n",
      " |-- location: string (nullable = true)\n",
      " |-- method: string (nullable = true)\n",
      " |-- page: string (nullable = true)\n",
      " |-- registration: double (nullable = true)\n",
      " |-- sessionId: long (nullable = true)\n",
      " |-- song: string (nullable = true)\n",
      " |-- status: long (nullable = true)\n",
      " |-- ts: long (nullable = true)\n",
      " |-- userAgent: string (nullable = true)\n",
      " |-- userId: string (nullable = true)\n",
      "\n"
     ]
    }
   ],
   "source": [
    "log_data.printSchema()"
   ]
  },
  {
   "cell_type": "markdown",
   "metadata": {
    "editable": true
   },
   "source": [
    "#### SongPlay: songplay_id, start_time, user_id, level, song_id, artist_id, session_id, location, user_agent\n",
    "#### Users: user_id, first_name, last_name, gender, level\n",
    "#### Time: start_time, hour, day, week, month, year, weekday"
   ]
  },
  {
   "cell_type": "code",
   "execution_count": 12,
   "metadata": {
    "editable": true
   },
   "outputs": [
    {
     "data": {
      "text/html": [
       "<div>\n",
       "<style scoped>\n",
       "    .dataframe tbody tr th:only-of-type {\n",
       "        vertical-align: middle;\n",
       "    }\n",
       "\n",
       "    .dataframe tbody tr th {\n",
       "        vertical-align: top;\n",
       "    }\n",
       "\n",
       "    .dataframe thead th {\n",
       "        text-align: right;\n",
       "    }\n",
       "</style>\n",
       "<table border=\"1\" class=\"dataframe\">\n",
       "  <thead>\n",
       "    <tr style=\"text-align: right;\">\n",
       "      <th></th>\n",
       "      <th>userId</th>\n",
       "      <th>firstName</th>\n",
       "      <th>lastName</th>\n",
       "      <th>gender</th>\n",
       "      <th>level</th>\n",
       "    </tr>\n",
       "  </thead>\n",
       "  <tbody>\n",
       "    <tr>\n",
       "      <th>0</th>\n",
       "      <td>80</td>\n",
       "      <td>Tegan</td>\n",
       "      <td>Levine</td>\n",
       "      <td>F</td>\n",
       "      <td>paid</td>\n",
       "    </tr>\n",
       "    <tr>\n",
       "      <th>1</th>\n",
       "      <td>15</td>\n",
       "      <td>Lily</td>\n",
       "      <td>Koch</td>\n",
       "      <td>F</td>\n",
       "      <td>paid</td>\n",
       "    </tr>\n",
       "    <tr>\n",
       "      <th>2</th>\n",
       "      <td>37</td>\n",
       "      <td>Jordan</td>\n",
       "      <td>Hicks</td>\n",
       "      <td>F</td>\n",
       "      <td>free</td>\n",
       "    </tr>\n",
       "    <tr>\n",
       "      <th>3</th>\n",
       "      <td>44</td>\n",
       "      <td>Aleena</td>\n",
       "      <td>Kirby</td>\n",
       "      <td>F</td>\n",
       "      <td>paid</td>\n",
       "    </tr>\n",
       "    <tr>\n",
       "      <th>4</th>\n",
       "      <td>50</td>\n",
       "      <td>Ava</td>\n",
       "      <td>Robinson</td>\n",
       "      <td>F</td>\n",
       "      <td>free</td>\n",
       "    </tr>\n",
       "  </tbody>\n",
       "</table>\n",
       "</div>"
      ],
      "text/plain": [
       "  userId firstName  lastName gender level\n",
       "0     80     Tegan    Levine      F  paid\n",
       "1     15      Lily      Koch      F  paid\n",
       "2     37    Jordan     Hicks      F  free\n",
       "3     44    Aleena     Kirby      F  paid\n",
       "4     50       Ava  Robinson      F  free"
      ]
     },
     "execution_count": 12,
     "metadata": {},
     "output_type": "execute_result"
    }
   ],
   "source": [
    "# Users\n",
    "users = log_data.select([\"userId\", \"firstName\", \"lastName\", \"gender\", \"level\"]).distinct()\n",
    "users.limit(5).toPandas()"
   ]
  },
  {
   "cell_type": "code",
   "execution_count": 49,
   "metadata": {
    "editable": true
   },
   "outputs": [],
   "source": [
    "#start_time, hour, day, week, month, year, weekday\n",
    "# Time\n",
    "get_hour = udf(lambda x: x.hour)\n",
    "get_day = udf(lambda x: x.day)\n",
    "get_week = udf(lambda x: x.isocalendar()[1])\n",
    "get_month = udf(lambda x: x.month)\n",
    "get_year = udf(lambda x: x.year)\n",
    "get_weekday = udf(lambda x: x.isoweekday())\n",
    "to_timestamp = udf(lambda x: int(x.timestamp()*1000))\n",
    "to_datetime = udf(lambda x : datetime.utcfromtimestamp(x/1000.0))\n",
    "\n",
    "time_df = log_data.withColumn(\"ts_m\", to_datetime(\"ts\"))"
   ]
  },
  {
   "cell_type": "code",
   "execution_count": null,
   "metadata": {
    "editable": true
   },
   "outputs": [],
   "source": [
    "time = time_df.select([\"ts_m\"]).withColumn(\"ts\", to_timestamp(time_df.ts_m)) \\\n",
    "                        .withColumn(\"hour\", get_hour(time_df.ts_m)) \\\n",
    "                        .withColumn(\"day\", get_day(time_df.ts_m)) \\\n",
    "                        .withColumn(\"week\", get_week(time_df.ts_m)) \\\n",
    "                        .withColumn(\"month\", get_month(time_df.ts_m)) \\\n",
    "                        .withColumn(\"year\", get_year(time_df.ts_m)) \\\n",
    "                        .withColumn(\"weekday\", get_weekday(time_df.ts_m)) \\\n",
    "                        .select([\"ts\",\"hour\",\"day\",\"week\",\"month\",\"year\",\"weekday\"]) \\\n",
    "                        .distinct()\n",
    "\n",
    "#time.filter(time.ts == 1542071549796).limit(1).toPandas()"
   ]
  },
  {
   "cell_type": "code",
   "execution_count": 13,
   "metadata": {
    "editable": true
   },
   "outputs": [
    {
     "data": {
      "text/html": [
       "<div>\n",
       "<style scoped>\n",
       "    .dataframe tbody tr th:only-of-type {\n",
       "        vertical-align: middle;\n",
       "    }\n",
       "\n",
       "    .dataframe tbody tr th {\n",
       "        vertical-align: top;\n",
       "    }\n",
       "\n",
       "    .dataframe thead th {\n",
       "        text-align: right;\n",
       "    }\n",
       "</style>\n",
       "<table border=\"1\" class=\"dataframe\">\n",
       "  <thead>\n",
       "    <tr style=\"text-align: right;\">\n",
       "      <th></th>\n",
       "      <th>ts</th>\n",
       "      <th>userId</th>\n",
       "      <th>level</th>\n",
       "      <th>song</th>\n",
       "      <th>artist</th>\n",
       "      <th>sessionId</th>\n",
       "      <th>location</th>\n",
       "      <th>userAgent</th>\n",
       "    </tr>\n",
       "  </thead>\n",
       "  <tbody>\n",
       "    <tr>\n",
       "      <th>0</th>\n",
       "      <td>1542069417796</td>\n",
       "      <td>66</td>\n",
       "      <td>free</td>\n",
       "      <td>None</td>\n",
       "      <td>None</td>\n",
       "      <td>514</td>\n",
       "      <td>Harrisburg-Carlisle, PA</td>\n",
       "      <td>\"Mozilla/5.0 (Macintosh; Intel Mac OS X 10_9_4...</td>\n",
       "    </tr>\n",
       "    <tr>\n",
       "      <th>1</th>\n",
       "      <td>1542069637796</td>\n",
       "      <td>66</td>\n",
       "      <td>free</td>\n",
       "      <td>Ja I Ty</td>\n",
       "      <td>Fu</td>\n",
       "      <td>514</td>\n",
       "      <td>Harrisburg-Carlisle, PA</td>\n",
       "      <td>\"Mozilla/5.0 (Macintosh; Intel Mac OS X 10_9_4...</td>\n",
       "    </tr>\n",
       "    <tr>\n",
       "      <th>2</th>\n",
       "      <td>1542071524796</td>\n",
       "      <td>51</td>\n",
       "      <td>free</td>\n",
       "      <td>None</td>\n",
       "      <td>None</td>\n",
       "      <td>510</td>\n",
       "      <td>Houston-The Woodlands-Sugar Land, TX</td>\n",
       "      <td>\"Mozilla/5.0 (Windows NT 6.3; WOW64) AppleWebK...</td>\n",
       "    </tr>\n",
       "    <tr>\n",
       "      <th>3</th>\n",
       "      <td>1542071549796</td>\n",
       "      <td>51</td>\n",
       "      <td>free</td>\n",
       "      <td>A Party Song (The Walk of Shame)</td>\n",
       "      <td>All Time Low</td>\n",
       "      <td>510</td>\n",
       "      <td>Houston-The Woodlands-Sugar Land, TX</td>\n",
       "      <td>\"Mozilla/5.0 (Windows NT 6.3; WOW64) AppleWebK...</td>\n",
       "    </tr>\n",
       "    <tr>\n",
       "      <th>4</th>\n",
       "      <td>1542079142796</td>\n",
       "      <td>9</td>\n",
       "      <td>free</td>\n",
       "      <td>Pop-Pop!</td>\n",
       "      <td>Nik &amp; Jay</td>\n",
       "      <td>379</td>\n",
       "      <td>Eureka-Arcata-Fortuna, CA</td>\n",
       "      <td>Mozilla/5.0 (Windows NT 6.1; WOW64; Trident/7....</td>\n",
       "    </tr>\n",
       "  </tbody>\n",
       "</table>\n",
       "</div>"
      ],
      "text/plain": [
       "              ts userId level                              song        artist  \\\n",
       "0  1542069417796     66  free                              None          None   \n",
       "1  1542069637796     66  free                           Ja I Ty            Fu   \n",
       "2  1542071524796     51  free                              None          None   \n",
       "3  1542071549796     51  free  A Party Song (The Walk of Shame)  All Time Low   \n",
       "4  1542079142796      9  free                          Pop-Pop!     Nik & Jay   \n",
       "\n",
       "   sessionId                              location  \\\n",
       "0        514               Harrisburg-Carlisle, PA   \n",
       "1        514               Harrisburg-Carlisle, PA   \n",
       "2        510  Houston-The Woodlands-Sugar Land, TX   \n",
       "3        510  Houston-The Woodlands-Sugar Land, TX   \n",
       "4        379             Eureka-Arcata-Fortuna, CA   \n",
       "\n",
       "                                           userAgent  \n",
       "0  \"Mozilla/5.0 (Macintosh; Intel Mac OS X 10_9_4...  \n",
       "1  \"Mozilla/5.0 (Macintosh; Intel Mac OS X 10_9_4...  \n",
       "2  \"Mozilla/5.0 (Windows NT 6.3; WOW64) AppleWebK...  \n",
       "3  \"Mozilla/5.0 (Windows NT 6.3; WOW64) AppleWebK...  \n",
       "4  Mozilla/5.0 (Windows NT 6.1; WOW64; Trident/7....  "
      ]
     },
     "execution_count": 13,
     "metadata": {},
     "output_type": "execute_result"
    }
   ],
   "source": [
    "# SongPlay data (songplay_id, start_time, user_id, level, song_id, artist_id, session_id, location, user_agent)\n",
    "songplay = log_data.select([\"ts\",\"userId\",\"level\",\"song\",\"artist\", \"sessionId\", \"location\", \"userAgent\"])\n",
    "log_data.select([\"ts\",\"userId\",\"level\",\"song\",\"artist\", \"sessionId\", \"location\", \"userAgent\"]).limit(5).toPandas()"
   ]
  },
  {
   "cell_type": "code",
   "execution_count": 16,
   "metadata": {
    "editable": true
   },
   "outputs": [],
   "source": [
    "artist_only = artist.select([\"artist_id\",\"artist_name\"]).distinct()\n",
    "songs_only = songs.select([\"song_id\",\"title\"]).distinct()\n",
    " \n",
    "result = songplay.join(artist_only, artist_only.artist_name == songplay.artist, 'inner') \\\n",
    "                 .join(songs_only, songs_only.title == songplay.song, 'inner') \\\n",
    "                 .select(songplay.ts, songplay.userId, songplay.level, songs_only.song_id, artist_only.artist_id, songplay.sessionId, songplay.location, songplay.userAgent) \\\n"
   ]
  },
  {
   "cell_type": "code",
   "execution_count": 17,
   "metadata": {
    "editable": true
   },
   "outputs": [
    {
     "data": {
      "text/html": [
       "<div>\n",
       "<style scoped>\n",
       "    .dataframe tbody tr th:only-of-type {\n",
       "        vertical-align: middle;\n",
       "    }\n",
       "\n",
       "    .dataframe tbody tr th {\n",
       "        vertical-align: top;\n",
       "    }\n",
       "\n",
       "    .dataframe thead th {\n",
       "        text-align: right;\n",
       "    }\n",
       "</style>\n",
       "<table border=\"1\" class=\"dataframe\">\n",
       "  <thead>\n",
       "    <tr style=\"text-align: right;\">\n",
       "      <th></th>\n",
       "      <th>ts</th>\n",
       "      <th>userId</th>\n",
       "      <th>level</th>\n",
       "      <th>song_id</th>\n",
       "      <th>artist_id</th>\n",
       "      <th>sessionId</th>\n",
       "      <th>location</th>\n",
       "      <th>userAgent</th>\n",
       "    </tr>\n",
       "  </thead>\n",
       "  <tbody>\n",
       "    <tr>\n",
       "      <th>0</th>\n",
       "      <td>1542140035796</td>\n",
       "      <td>95</td>\n",
       "      <td>paid</td>\n",
       "      <td>SOUPKAB12AB0185DF9</td>\n",
       "      <td>AR12F2S1187FB56EEF</td>\n",
       "      <td>411</td>\n",
       "      <td>Winston-Salem, NC</td>\n",
       "      <td>\"Mozilla/5.0 (iPhone; CPU iPhone OS 7_1_2 like...</td>\n",
       "    </tr>\n",
       "  </tbody>\n",
       "</table>\n",
       "</div>"
      ],
      "text/plain": [
       "              ts userId level             song_id           artist_id  \\\n",
       "0  1542140035796     95  paid  SOUPKAB12AB0185DF9  AR12F2S1187FB56EEF   \n",
       "\n",
       "   sessionId           location  \\\n",
       "0        411  Winston-Salem, NC   \n",
       "\n",
       "                                           userAgent  \n",
       "0  \"Mozilla/5.0 (iPhone; CPU iPhone OS 7_1_2 like...  "
      ]
     },
     "execution_count": 17,
     "metadata": {},
     "output_type": "execute_result"
    }
   ],
   "source": [
    "result.limit(5).toPandas()"
   ]
  },
  {
   "cell_type": "code",
   "execution_count": null,
   "metadata": {
    "editable": true
   },
   "outputs": [],
   "source": []
  }
 ],
 "metadata": {
  "kernelspec": {
   "display_name": "Python 3",
   "language": "python",
   "name": "python3"
  },
  "language_info": {
   "codemirror_mode": {
    "name": "ipython",
    "version": 3
   },
   "file_extension": ".py",
   "mimetype": "text/x-python",
   "name": "python",
   "nbconvert_exporter": "python",
   "pygments_lexer": "ipython3",
   "version": "3.6.3"
  }
 },
 "nbformat": 4,
 "nbformat_minor": 4
}
